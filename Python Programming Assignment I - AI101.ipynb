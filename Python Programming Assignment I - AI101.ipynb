{
 "cells": [
  {
   "cell_type": "markdown",
   "metadata": {},
   "source": [
    "# AI 101 - Python Programming Assignment 1"
   ]
  },
  {
   "cell_type": "markdown",
   "metadata": {},
   "source": [
    "## Muhammad Fahad Khan\n",
    "### Saylani HO | Saturday 6:45pm to 9:45pm\n",
    "### AIC041212"
   ]
  },
  {
   "cell_type": "code",
   "execution_count": null,
   "metadata": {},
   "outputs": [],
   "source": [
    "# 1. Calculate Area of a Circle.\n",
    "# Write a Python program which accepts the radius of a circle from the user and compute the area.\n",
    "\n",
    "rad1 = float(input(\"Input Radius: \"))\n",
    "pi = float(3.141592654)\n",
    "area1 = pi * (rad1 ** 2)\n",
    "\n",
    "print(\"Area of Circle with radius\",rad1,\"is\",round(area1,2))\n"
   ]
  },
  {
   "cell_type": "code",
   "execution_count": null,
   "metadata": {},
   "outputs": [],
   "source": [
    "# 2. Check number either positive, negative or zero.\n",
    "# Write a Python program to check if a number is positive, negative or zero.\n",
    "\n",
    "num0 = float(input(\"Enter Number: \"))\n",
    "\n",
    "if num0 == 0:\n",
    "    print(\"Zero Entered\")\n",
    "elif num0 < 0:\n",
    "    print(\"Negative Number Entered\")\n",
    "elif num0 > 0:\n",
    "    print(\"Positive Number Entered\")\n"
   ]
  },
  {
   "cell_type": "code",
   "execution_count": null,
   "metadata": {},
   "outputs": [],
   "source": [
    "# 3. Divisibility check of two numbers.\n",
    "# Write a Python program to check whether a number is completely divisible by another number. \n",
    "# Accept two integer values form the user.\n",
    "\n",
    "num1 = int(input(\"Enter Numerator: \"))\n",
    "num2 = int(input(\"Enter Denominator: \"))\n",
    "ans = num1 % num2\n",
    "\n",
    "if ans == 0:\n",
    "    print(\"Number\",num1,\"is completely divisible by\",num2)\n",
    "else:\n",
    "    print(\"Number\",num1,\"is not completely divisible by\",num2)\n"
   ]
  },
  {
   "cell_type": "code",
   "execution_count": null,
   "metadata": {},
   "outputs": [],
   "source": [
    "# 4. Days calculator.\n",
    "# Write a Python program to calculate number of days between two dates.\n",
    "\n",
    "date1 = input(\"Enter a date in (dd/mm/yy) format: \")\n",
    "date2 = input(\"Enter a date in (dd/mm/yy) format: \")\n",
    "day1 = int(date1[0:2]) \n",
    "day2 = int(date2[0:2])\n",
    "mon1 = int(date1[3:5])\n",
    "mon2 = int(date2[3:5])\n",
    "year1 = int(date1[6:10])\n",
    "year2 = int(date2[6:10])\n",
    "day_ans = ((year2 - year1) * 365) + ((mon2 - mon1) * 30) + (day2 - day1)\n",
    "\n",
    "print(\"There are\",day_ans,\"days in between\",date2,\"and\",date1)\n",
    "print(\"\\nNOTE: All months are considered as 30 days and all years as 365 days\")\n"
   ]
  },
  {
   "cell_type": "code",
   "execution_count": null,
   "metadata": {},
   "outputs": [],
   "source": [
    "# 5. Calculate Volume of a Sphere.\n",
    "# Write a Python program to get the volume of a sphere, please take the radius as input from user.\n",
    "\n",
    "rad2 = float(input(\"Enter Radius of Sphere: \"))\n",
    "pi = float(3.141592654)\n",
    "area2 = 4/3 * pi * (rad2 ** 3)\n",
    "\n",
    "print(\"Volume of the Sphere with Radius\",rad2,\"is\",round(area2,2))\n"
   ]
  },
  {
   "cell_type": "code",
   "execution_count": null,
   "metadata": {},
   "outputs": [],
   "source": [
    "# 6. Copy string n times.\n",
    "# Write a Python program to get a string which is n (non-negative integer) copies of a given string.\n",
    "\n",
    "str1 = input(\"Enter String: \")\n",
    "rep1 = int(input(\"How many copies of String you need: \"))\n",
    "ans = str1 * rep1\n",
    "\n",
    "print(rep1,\"copies of\",str1,\"are\",ans)\n"
   ]
  },
  {
   "cell_type": "code",
   "execution_count": null,
   "metadata": {},
   "outputs": [],
   "source": [
    "# 7. Check if number is Even or Odd.\n",
    "# Write a Python program to find whether a given number (accept from the user) is even or odd.\n",
    "# Print out an appropriate message to the user.\n",
    "\n",
    "num1 = int(input(\"Enter Number: \"))\n",
    "mod1 = num1 % 2\n",
    "\n",
    "if mod1 == 0:\n",
    "    print(num1,\"is Even\")\n",
    "else:\n",
    "    print(num1,\"is Odd\")\n"
   ]
  },
  {
   "cell_type": "code",
   "execution_count": null,
   "metadata": {},
   "outputs": [],
   "source": [
    "# 8. Vowel tester.\n",
    "# Write a Python program to test whether a passed letter is a vowel or not.\n",
    "\n",
    "char1 = input(\"Enter a character: \")\n",
    "\n",
    "if char1 == \"a\" or char1 == \"A\" or char1 == \"e\" or char1 == \"E\" or char1 == \"i\" or char1 == \"I\" or char1 == \"o\" or char1 == \"O\" or char1 == \"u\" or char1 == \"U\":\n",
    "    print(\"Character\",char1,\"is a vowel\")\n",
    "else:\n",
    "    print(\"Character\",char1,\"is not a vowel\")\n"
   ]
  },
  {
   "cell_type": "code",
   "execution_count": null,
   "metadata": {},
   "outputs": [],
   "source": [
    "# 9. Triangle area.\n",
    "# Write a Python program that will accept the base and height of a triangle and compute the area.\n",
    "\n",
    "base1 = float(input(\"Enter magnitude of Triangle base: \"))\n",
    "height1 = float(input(\"Enter magnitude of Triangle height: \"))\n",
    "area1 = 1/2 * (base1 * height1)\n",
    "\n",
    "print(\"Area of a Triangle with Height\",height1,\"and Base\",base1,\"is\",round(area1,2))\n"
   ]
  },
  {
   "cell_type": "code",
   "execution_count": null,
   "metadata": {},
   "outputs": [],
   "source": [
    "# 10. Calculate interest.\n",
    "# Write a Python program to compute the future value of a specified principal amount, rate of interest, and a number of years.\n",
    "\n",
    "pri1 = int(input(\"Please enter principal amount: \"))\n",
    "int1 = float(input(\"Please Enter Rate of interest in %: \"))\n",
    "year1 = float(input(\"Enter number of years for investment: \"))\n",
    "ans1 = pri1 * (1 + ((int1 / 100) * year1))\n",
    "\n",
    "print(\"After\",year1,\"years your principal amount\",pri1,\"over an interest rate of\",int1,\"% will be\",round(ans1,2))\n"
   ]
  },
  {
   "cell_type": "code",
   "execution_count": null,
   "metadata": {},
   "outputs": [],
   "source": [
    "# 11. Euclidean distance.\n",
    "# Write a Python program to compute the distance between the points (x1, y1) and (x2, y2).\n",
    "\n",
    "x1 = int(input(\"Enter Co-ordinate for x1: \"))\n",
    "x2 = int(input(\"Enter Co-ordinate for x2: \"))\n",
    "y1 = int(input(\"Enter Co-ordinate for y1: \"))\n",
    "y2 = int(input(\"Enter Co-ordinate for y2: \"))\n",
    "dist1 = (((y2 - y1) ** 2) + ((x2 - x1) ** 2)) ** 0.5\n",
    "\n",
    "print(\"Distance between points (\",x1,\",\",y1,\") and (\",x2,\",\",y2,\") is\",round(dist1,2))\n"
   ]
  },
  {
   "cell_type": "code",
   "execution_count": null,
   "metadata": {},
   "outputs": [],
   "source": [
    "# 12. Feet to Centimeter converter.\n",
    "# Write a Python program to convert height in feet to centimetres.\n",
    "\n",
    "feet1 = float(input(\"Enter Height in Feet: \"))\n",
    "centi1 = feet1 * 30.48\n",
    "\n",
    "print(\"There are\",round(centi1,2),\"cm in\",feet1,\"ft\")\n"
   ]
  },
  {
   "cell_type": "code",
   "execution_count": null,
   "metadata": {},
   "outputs": [],
   "source": [
    "# 13. BMI calculator.\n",
    "# Write a Python program to calculate body mass index.\n",
    "\n",
    "hgt1 = float(input(\"Enter Height in cm: \"))\n",
    "wgt1 = float(input(\"Enter Weight in Kg: \"))\n",
    "bmi = wgt1 / ((hgt1 / 100) ** 2)\n",
    "\n",
    "print(\"Your BMI is\",round(bmi,2))"
   ]
  },
  {
   "cell_type": "code",
   "execution_count": null,
   "metadata": {},
   "outputs": [],
   "source": [
    "# 14. Sum of n positive integers.\n",
    "# Write a python program to sum of the first n positive integers.\n",
    "\n",
    "n1 = int(input(\"Enter value of n: \"))\n",
    "sum1 = 0\n",
    "for x in range (n1 + 1):\n",
    "    sum1 = sum1 + x\n",
    "\n",
    "print(\"Sum of n Positive integers till\",n1,\"is\",sum1)\n"
   ]
  },
  {
   "cell_type": "code",
   "execution_count": null,
   "metadata": {},
   "outputs": [],
   "source": [
    "# 15. Digits sum of a number.\n",
    "# Write a Python program to calculate the sum of the digits in an integer.\n",
    "\n",
    "num1 = input(\"Enter a number: \")\n",
    "len1 = len(num1)\n",
    "sum1 = 0\n",
    "answer = \"Sum of \"\n",
    "\n",
    "for i in range (len1):\n",
    "    sum1 += int(num1[i])\n",
    "    answer += str(num1[i])\n",
    "    if i < int(len1 - 1):\n",
    "        answer += \" + \"\n",
    "    else:\n",
    "        break\n",
    "\n",
    "answer += \" is \"\n",
    "answer += str(sum1)\n",
    "print(answer)\n"
   ]
  },
  {
   "cell_type": "code",
   "execution_count": null,
   "metadata": {},
   "outputs": [],
   "source": [
    "# 16. Decimal to Binary converter.\n",
    "# Write a Python program to convert an decimal integer to binary.\n",
    "\n",
    "dec1 = dec2 = int(input(\"Enter a decimal number: \"))\n",
    "bin1 = \"\"\n",
    "rem1 = 0\n",
    "\n",
    "while rem1 == 0:\n",
    "    rem = dec1%2\n",
    "    dec1 = dec1//2\n",
    "    bin1 += str(rem)\n",
    "    if dec1 == 0:\n",
    "        rem1 = 1\n",
    "        \n",
    "bin1 = bin1[::-1]\n",
    "print(\"Binary representation of\",dec2,\"is\",bin1)\n"
   ]
  },
  {
   "cell_type": "code",
   "execution_count": null,
   "metadata": {},
   "outputs": [],
   "source": [
    "# 17. Binary to Decimal converter.\n",
    "# Write a program to convert binary number to Decimal number.\n",
    "\n",
    "bin1 = input(\"Enter a binary number: \")\n",
    "bin2 = bin1[::-1]\n",
    "len1 = len(bin2)\n",
    "dec1 = 0\n",
    "\n",
    "for x in range(len1):\n",
    "    y = int(bin2[x])\n",
    "    dec1 += (y * (2 ** x))\n",
    "    \n",
    "print(\"Decimal representation of\",bin1,\"is\",dec1)\n"
   ]
  },
  {
   "cell_type": "code",
   "execution_count": null,
   "metadata": {},
   "outputs": [],
   "source": [
    "# 18. Vowel and Consonants counter.\n",
    "# Input a text and count the occurrences of vowels and consonant.\n",
    "\n",
    "text1 = str(input(\"Enter text: \"))\n",
    "len1 = len(text1)\n",
    "vow1 = con1 = 0\n",
    "\n",
    "for char1 in range (len1):\n",
    "    if text1[char1] == \"a\" or text1[char1] == \"A\" or text1[char1] == \"e\" or text1[char1] == \"E\" or text1[char1] == \"i\" or text1[char1] == \"I\" or text1[char1] == \"o\" or text1[char1] == \"O\" or text1[char1] == \"u\" or text1[char1] == \"U\":\n",
    "        vow1 += 1\n",
    "    else:\n",
    "        con1 += 1\n",
    "\n",
    "print(\"Vowels: \",vow1)\n",
    "print(\"Consonants: \",con1)\n"
   ]
  },
  {
   "cell_type": "code",
   "execution_count": null,
   "metadata": {},
   "outputs": [],
   "source": [
    "# 19. Palindrome tester.\n",
    "# Write a program to check whether given input is palindrome or not.\n",
    "\n",
    "text1 = str(input(\"Enter text: \"))\n",
    "len1 = len(text1)\n",
    "len2 = len1 // 2\n",
    "\n",
    "for char1 in range (len2):\n",
    "    if text1[char1] == text1[len1 - char1 - 1]:\n",
    "        answer1 = (\"is Palindrome\")\n",
    "    else:\n",
    "        answer1 = (\"is not Palindrome\")\n",
    "        break\n",
    "\n",
    "print(\"Text\",text1,answer1)\n"
   ]
  },
  {
   "cell_type": "code",
   "execution_count": null,
   "metadata": {},
   "outputs": [],
   "source": [
    "# 20. Count Alphabets, Numbers and Special Characters.\n",
    "# Write a Python program that accepts a string and calculate the number of digits and letters.\n",
    "\n",
    "str1 = list(input(\"Enter text: \"))\n",
    "len1 = len(str1)\n",
    "num1 = alp1 = spl1 = spc1 = 0\n",
    "\n",
    "for x in range(len1):\n",
    "    char1 = str1[x]\n",
    "    chk1 = char1.isalpha()\n",
    "    if chk1 == True:\n",
    "        alp1 += 1\n",
    "    else:\n",
    "        chk2 = char1.isnumeric()\n",
    "        if chk2 == True:\n",
    "            num1 += 1\n",
    "        else:\n",
    "            if char1 == \" \":\n",
    "                spc1 += 1\n",
    "            else:\n",
    "                spl1 += 1\n",
    "                \n",
    "print(\"Numbers = \",num1)\n",
    "print(\"Alphabets = \",alp1)\n",
    "print(\"Special Characters = \",spl1)\n",
    "print(\"Spaces = \",spc1)\n"
   ]
  },
  {
   "cell_type": "code",
   "execution_count": null,
   "metadata": {},
   "outputs": [],
   "source": [
    "# 21. Write a Python program to construct the following pattern.\n",
    "\n",
    "i = \"* \"\n",
    "x = int(input(\"Enter range = \"))\n",
    "y = 0\n",
    "\n",
    "for z in range(1,(x * 2)):\n",
    "    if z <= x:\n",
    "        print(i * z)\n",
    "    else:\n",
    "        y += 2\n",
    "        print(i * (z - y))\n"
   ]
  },
  {
   "cell_type": "code",
   "execution_count": null,
   "metadata": {},
   "outputs": [],
   "source": [
    "# 22. Write a Python program to construct the following pattern.\n",
    "\n",
    "x = int(input(\"Enter range = \"))\n",
    "\n",
    "for y in range(1,(x + 1)):\n",
    "    for z in range(1,(y + 1)):\n",
    "        print(z,end=\" \")\n",
    "    print(\"\\n\")\n",
    "\n",
    "for y in range((x + 1),1,-1):\n",
    "    for z in range(1,(y - 1)):\n",
    "        print(z,end=\" \")\n",
    "    print(\"\\n\")\n"
   ]
  },
  {
   "cell_type": "code",
   "execution_count": null,
   "metadata": {},
   "outputs": [],
   "source": [
    "# 23. Write a Python program to construct the following pattern.\n",
    "\n",
    "x = int(input(\"Enter range = \"))\n",
    "\n",
    "for y in range(1,(x + 1)):\n",
    "    for z in range(1,(y + 1)):\n",
    "        print(y,end=\"\")\n",
    "    print(\"\\n\")\n",
    "    "
   ]
  }
 ],
 "metadata": {
  "kernelspec": {
   "display_name": "Python 3",
   "language": "python",
   "name": "python3"
  },
  "language_info": {
   "codemirror_mode": {
    "name": "ipython",
    "version": 3
   },
   "file_extension": ".py",
   "mimetype": "text/x-python",
   "name": "python",
   "nbconvert_exporter": "python",
   "pygments_lexer": "ipython3",
   "version": "3.7.3"
  }
 },
 "nbformat": 4,
 "nbformat_minor": 2
}
